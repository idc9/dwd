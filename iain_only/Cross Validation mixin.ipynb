{
 "cells": [
  {
   "cell_type": "code",
   "execution_count": 1,
   "metadata": {},
   "outputs": [],
   "source": [
    "from sklearn.datasets import make_blobs, make_circles\n",
    "import matplotlib.pyplot as plt\n",
    "from matplotlib.colors import ListedColormap\n",
    "%matplotlib inline\n",
    "import numpy as np\n",
    "\n",
    "from dwd.gen_dwd import GenDWD\n",
    "from dwd.cv import run_cv"
   ]
  },
  {
   "cell_type": "code",
   "execution_count": 2,
   "metadata": {},
   "outputs": [
    {
     "data": {
      "text/plain": [
       "GenDWD(implicit_P=True, lambd=0.1, q=1)"
      ]
     },
     "execution_count": 2,
     "metadata": {},
     "output_type": "execute_result"
    }
   ],
   "source": [
    "# sample sythetic training data\n",
    "\n",
    "def sample_data(n_samples=100, n_features=20, sep=2, random_state=None):\n",
    "\n",
    "    return make_blobs(n_samples=n_samples, n_features=n_features,\n",
    "                      centers=[np.zeros(n_features),\n",
    "                               sep * np.ones(n_features) / np.sqrt(n_features)],\n",
    "                      random_state=random_state)\n",
    "\n",
    "\n",
    "X, y = sample_data(n_samples=100, n_features=5, sep=2)\n",
    "\n",
    "dwd = GenDWD(lambd=.1).fit(X, y)\n",
    "dwd.cv_init(X)\n"
   ]
  },
  {
   "cell_type": "code",
   "execution_count": null,
   "metadata": {},
   "outputs": [],
   "source": []
  },
  {
   "cell_type": "code",
   "execution_count": null,
   "metadata": {},
   "outputs": [],
   "source": []
  },
  {
   "cell_type": "code",
   "execution_count": 3,
   "metadata": {},
   "outputs": [
    {
     "data": {
      "text/plain": [
       "({'q': 1, 'lambd': 0.1},\n",
       " 0.7475,\n",
       " GenDWD(implicit_P=True, lambd=1.0, q=1),\n",
       " {'params': [{'q': 1, 'lambd': 0.1}, {'q': 2, 'lambd': 1}],\n",
       "  'mean_test_score': [0.7475, 0.5925],\n",
       "  'std_test_score': [0.03741657386773943, 0.12614475811542866],\n",
       "  'mean_train_score': [0.9199999999999999, 0.75],\n",
       "  'std_train_score': [0.024494897427831747, 0.0894427190999916],\n",
       "  'mean_runtime': [0.015261077880859375, 0.01147923469543457],\n",
       "  'std_runtime': [0.003543021714059611, 0.0057181372616509915]},\n",
       " [{'params': [{'q': 1, 'lambd': 0.1}, {'q': 2, 'lambd': 1}],\n",
       "   'train_score': [0.95, 0.7],\n",
       "   'test_score': [0.775, 0.5375],\n",
       "   'runtime': [0.01536107063293457, 0.009460926055908203],\n",
       "   'init_time': 0.0005359649658203125},\n",
       "  {'params': [{'q': 1, 'lambd': 0.1}, {'q': 2, 'lambd': 1}],\n",
       "   'train_score': [0.9, 0.8],\n",
       "   'test_score': [0.8, 0.7375],\n",
       "   'runtime': [0.015524148941040039, 0.008970975875854492],\n",
       "   'init_time': 0.00015807151794433594},\n",
       "  {'params': [{'q': 1, 'lambd': 0.1}, {'q': 2, 'lambd': 1}],\n",
       "   'train_score': [0.95, 0.65],\n",
       "   'test_score': [0.7, 0.475],\n",
       "   'runtime': [0.021452903747558594, 0.02278304100036621],\n",
       "   'init_time': 0.00014019012451171875},\n",
       "  {'params': [{'q': 1, 'lambd': 0.1}, {'q': 2, 'lambd': 1}],\n",
       "   'train_score': [0.9, 0.9],\n",
       "   'test_score': [0.7125, 0.75],\n",
       "   'runtime': [0.010787010192871094, 0.006999969482421875],\n",
       "   'init_time': 0.00014495849609375},\n",
       "  {'params': [{'q': 1, 'lambd': 0.1}, {'q': 2, 'lambd': 1}],\n",
       "   'train_score': [0.9, 0.7],\n",
       "   'test_score': [0.75, 0.4625],\n",
       "   'runtime': [0.013180255889892578, 0.00918126106262207],\n",
       "   'init_time': 0.00010395050048828125}])"
      ]
     },
     "execution_count": 3,
     "metadata": {},
     "output_type": "execute_result"
    }
   ],
   "source": [
    "params = {'q': [1, 2, 3], 'lambd': [.1, 1]}\n",
    "run_cv(GenDWD(), X=X, y=y,\n",
    "       params=params,\n",
    "       scoring='accuracy', cv=5, refit_best=True)"
   ]
  },
  {
   "cell_type": "code",
   "execution_count": null,
   "metadata": {},
   "outputs": [],
   "source": []
  }
 ],
 "metadata": {
  "kernelspec": {
   "display_name": "Python [conda env:mv_gmm] *",
   "language": "python",
   "name": "conda-env-mv_gmm-py"
  },
  "language_info": {
   "codemirror_mode": {
    "name": "ipython",
    "version": 3
   },
   "file_extension": ".py",
   "mimetype": "text/x-python",
   "name": "python",
   "nbconvert_exporter": "python",
   "pygments_lexer": "ipython3",
   "version": "3.7.4"
  }
 },
 "nbformat": 4,
 "nbformat_minor": 2
}
