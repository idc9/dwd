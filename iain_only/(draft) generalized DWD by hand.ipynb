{
 "cells": [
  {
   "cell_type": "code",
   "execution_count": 1,
   "metadata": {},
   "outputs": [],
   "source": [
    "import cvxpy as cp\n",
    "import numpy as np\n",
    "from time import time\n",
    "\n",
    "from sklearn.base import BaseEstimator  # , TransformerMixin, ClassifierMixin\n",
    "from sklearn.linear_model.base import LinearClassifierMixin\n",
    "from sklearn.utils import check_X_y\n",
    "from sklearn.utils.multiclass import check_classification_targets\n",
    "import numpy as np\n",
    "import matplotlib.pyplot as plt\n",
    "%matplotlib inline\n",
    "\n",
    "from sklearn.datasets import make_classification\n",
    "\n",
    "from dwd.gen_dwd import GenDWD\n",
    "from dwd.utils import pm1"
   ]
  },
  {
   "cell_type": "code",
   "execution_count": 2,
   "metadata": {},
   "outputs": [],
   "source": [
    "# U = np.linspace(-10, 10, 100)\n",
    "# plt.plot(V(U, 2))"
   ]
  },
  {
   "cell_type": "code",
   "execution_count": 3,
   "metadata": {},
   "outputs": [],
   "source": [
    "params = {'n_features': 200,\n",
    "          'n_redundant': 0,\n",
    "          'n_classes': 2,\n",
    "          'n_clusters_per_class': 1,\n",
    "          'flip_y': .1,\n",
    "          'class_sep': 1.0}\n",
    "\n",
    "X, y = make_classification(n_samples=1000, random_state=0, **params)\n",
    "# y = pm1(y)"
   ]
  },
  {
   "cell_type": "code",
   "execution_count": 4,
   "metadata": {},
   "outputs": [],
   "source": [
    "dwd= GenDWD().fit(X, y)"
   ]
  },
  {
   "cell_type": "code",
   "execution_count": 7,
   "metadata": {},
   "outputs": [
    {
     "data": {
      "text/plain": [
       "0.898"
      ]
     },
     "execution_count": 7,
     "metadata": {},
     "output_type": "execute_result"
    }
   ],
   "source": [
    "np.mean(dwd.predict(X) == y)"
   ]
  },
  {
   "cell_type": "code",
   "execution_count": null,
   "metadata": {},
   "outputs": [],
   "source": []
  },
  {
   "cell_type": "code",
   "execution_count": 16,
   "metadata": {},
   "outputs": [
    {
     "data": {
      "text/plain": [
       "[<matplotlib.lines.Line2D at 0x1a1ba0e450>]"
      ]
     },
     "execution_count": 16,
     "metadata": {},
     "output_type": "execute_result"
    },
    {
     "data": {
      "image/png": "[encoded data removed]",
      "text/plain": [
       "<Figure size 432x288 with 1 Axes>"
      ]
     },
     "metadata": {
      "needs_background": "light"
     },
     "output_type": "display_data"
    }
   ],
   "source": [
    "beta, offset, obj_vals, c = solve_gen_dwd_implicit_P(X, y, lambd=.5, q=2, max_iter=20)\n",
    "plt.plot(obj_vals)\n"
   ]
  },
  {
   "cell_type": "code",
   "execution_count": 18,
   "metadata": {},
   "outputs": [],
   "source": [
    "beta, offset, obj_vals, c = solve_gen_dwd_explicit_P(X, y, lambd=.5, q=2, max_iter=20)"
   ]
  },
  {
   "cell_type": "markdown",
   "metadata": {},
   "source": [
    "# time testing"
   ]
  },
  {
   "cell_type": "code",
   "execution_count": 22,
   "metadata": {},
   "outputs": [
    {
     "name": "stdout",
     "output_type": "stream",
     "text": [
      "explicit:  0.3138312101364136\n",
      "implicit:  0.8812527179718017\n"
     ]
    }
   ],
   "source": [
    "R = 10\n",
    "\n",
    "params = {'n_features': 500,\n",
    "          'n_redundant': 0,\n",
    "          'n_classes': 2,\n",
    "          'n_clusters_per_class': 1,\n",
    "          'flip_y': .1,\n",
    "          'class_sep': 1.0}\n",
    "\n",
    "\n",
    "data = [make_classification(n_samples=1000, **params) for r in range(R)]\n",
    "\n",
    "start_time = time()\n",
    "for r in range(R):\n",
    "    X, Y = data[r]\n",
    "    beta, offset, obj_vals, c = solve_gen_dwd_explicit_P(X, y, lambd=.5, q=2, max_iter=100)\n",
    "explicit_runtime = time() - start_time\n",
    "\n",
    "\n",
    "\n",
    "start_time = time()\n",
    "for r in range(R):\n",
    "    X, Y = data[r]\n",
    "    beta, offset, obj_vals, c = solve_gen_dwd_implicit_P(X, y, lambd=.5, q=2, max_iter=100)\n",
    "implicit_runtime = time() - start_time\n",
    "\n",
    "print('explicit: ', explicit_runtime/R)\n",
    "print('implicit: ', implicit_runtime/R)\n"
   ]
  },
  {
   "cell_type": "code",
   "execution_count": 14,
   "metadata": {},
   "outputs": [
    {
     "data": {
      "text/plain": [
       "(1000, 200)"
      ]
     },
     "execution_count": 14,
     "metadata": {},
     "output_type": "execute_result"
    }
   ],
   "source": [
    "X.shape"
   ]
  },
  {
   "cell_type": "code",
   "execution_count": null,
   "metadata": {},
   "outputs": [],
   "source": []
  }
 ],
 "metadata": {
  "kernelspec": {
   "display_name": "Python [conda env:mv_gmm] *",
   "language": "python",
   "name": "conda-env-mv_gmm-py"
  },
  "language_info": {
   "codemirror_mode": {
    "name": "ipython",
    "version": 3
   },
   "file_extension": ".py",
   "mimetype": "text/x-python",
   "name": "python",
   "nbconvert_exporter": "python",
   "pygments_lexer": "ipython3",
   "version": "3.7.4"
  }
 },
 "nbformat": 4,
 "nbformat_minor": 2
}
