{
 "cells": [
  {
   "cell_type": "code",
   "execution_count": 1,
   "metadata": {},
   "outputs": [],
   "source": [
    "import cvxpy as cp\n",
    "import numpy as np\n",
    "\n",
    "from sklearn.base import BaseEstimator  # , TransformerMixin, ClassifierMixin\n",
    "from sklearn.linear_model.base import LinearClassifierMixin\n",
    "from sklearn.utils import check_X_y\n",
    "from sklearn.utils.multiclass import check_classification_targets\n",
    "import numpy as np\n",
    "import matplotlib.pyplot as plt\n",
    "%matplotlib inline\n",
    "\n",
    "from sklearn.datasets import make_classification\n"
   ]
  },
  {
   "cell_type": "code",
   "execution_count": 46,
   "metadata": {},
   "outputs": [],
   "source": [
    "def V_(u, q=1):\n",
    "    if u <= q / (q + 1.0):\n",
    "        return 1 - u\n",
    "    else:\n",
    "        return (1.0 / u ** q) * (q ** q / (q + 1) ** (q + 1))\n",
    "\n",
    "def V_grad_(u, q=1):\n",
    "    # TODO: check\n",
    "    if u <= q / (q + 1.0):\n",
    "        return -1\n",
    "    else:\n",
    "        return (- q / u ** (q + 1)) * (q ** q / (q + 1) ** (q + 1))\n",
    "\n",
    "V = np.vectorize(V_, excluded=['q'])\n",
    "V_grad = np.vectorize(V_grad_, excluded=['q'])"
   ]
  },
  {
   "cell_type": "code",
   "execution_count": 3,
   "metadata": {},
   "outputs": [
    {
     "data": {
      "text/plain": [
       "[<matplotlib.lines.Line2D at 0x1a1ebc8fd0>]"
      ]
     },
     "execution_count": 3,
     "metadata": {},
     "output_type": "execute_result"
    },
    {
     "data": {
      "image/png": "[encoded data removed]",
      "text/plain": [
       "<Figure size 432x288 with 1 Axes>"
      ]
     },
     "metadata": {
      "needs_background": "light"
     },
     "output_type": "display_data"
    }
   ],
   "source": [
    "U = np.linspace(-10, 10, 100)\n",
    "plt.plot(V_grad(U, 2))"
   ]
  },
  {
   "cell_type": "code",
   "execution_count": null,
   "metadata": {},
   "outputs": [],
   "source": []
  },
  {
   "cell_type": "code",
   "execution_count": null,
   "metadata": {},
   "outputs": [],
   "source": []
  },
  {
   "cell_type": "code",
   "execution_count": null,
   "metadata": {},
   "outputs": [],
   "source": []
  },
  {
   "cell_type": "code",
   "execution_count": 47,
   "metadata": {},
   "outputs": [],
   "source": [
    "from cvxpy.atoms.elementwise.elementwise import Elementwise\n",
    "\n",
    "class V_fun(Elementwise):\n",
    "    \"\"\"Elementwise :math:`e^{x}`.\n",
    "    \"\"\"\n",
    "\n",
    "    def __init__(self, x, q=1):\n",
    "        self.q = q\n",
    "        super(V_fun, self).__init__(x)\n",
    "\n",
    "    @Elementwise.numpy_numeric\n",
    "    def numeric(self, values):\n",
    "        return V(u=values[0], q=self.q)\n",
    "\n",
    "    def sign_from_args(self):\n",
    "        \"\"\"Returns sign (is positive, is negative) of the expression.\n",
    "        \"\"\"\n",
    "        # Always positive.\n",
    "        return (True, False)\n",
    "\n",
    "    def is_atom_convex(self):\n",
    "        \"\"\"Is the atom convex?\n",
    "        \"\"\"\n",
    "        return True\n",
    "\n",
    "    def is_atom_concave(self):\n",
    "        \"\"\"Is the atom concave?\n",
    "        \"\"\"\n",
    "        return False\n",
    "\n",
    "    def is_atom_log_log_convex(self):\n",
    "        \"\"\"Is the atom log-log convex?\n",
    "        \"\"\"\n",
    "        # TODO: check\n",
    "        return True\n",
    "\n",
    "    def is_atom_log_log_concave(self):\n",
    "        \"\"\"Is the atom log-log concave?\n",
    "        \"\"\"\n",
    "        return False\n",
    "\n",
    "    def is_incr(self, idx):\n",
    "        \"\"\"Is the composition non-decreasing in argument idx?\n",
    "        \"\"\"\n",
    "        return False\n",
    "\n",
    "    def is_decr(self, idx):\n",
    "        \"\"\"Is the composition non-increasing in argument idx?\n",
    "        \"\"\"\n",
    "        return True\n",
    "\n",
    "    def _grad(self, values):\n",
    "        \"\"\"Gives the (sub/super)gradient of the atom w.r.t. each argument.\n",
    "        Matrix expressions are vectorized, so the gradient is a matrix.\n",
    "        Args:\n",
    "            values: A list of numeric values for the arguments.\n",
    "        Returns:\n",
    "            A list of SciPy CSC sparse matrices or None.\n",
    "        \"\"\"\n",
    "        rows = self.args[0].size\n",
    "        cols = self.size\n",
    "        grad_vals = V_grad(values[0], q=self.q)\n",
    "        return [exp.elemwise_grad_to_diag(grad_vals, rows, cols)]\n",
    "    \n",
    "    def get_data(self):\n",
    "        return [self.q]\n",
    "\n",
    "    def copy(self, args=None, id_objects={}):\n",
    "        \"\"\"Returns a shallow copy of the power atom.\n",
    "        Parameters\n",
    "        ----------\n",
    "        args : list, optional\n",
    "            The arguments to reconstruct the atom. If args=None, use the\n",
    "            current args of the atom.\n",
    "        Returns\n",
    "        -------\n",
    "        power atom\n",
    "        \"\"\"\n",
    "        if args is None:\n",
    "            args = self.args\n",
    "        # Avoid calling __init__() directly as we do not have p and max_denom.\n",
    "        copy = type(self).__new__(type(self))\n",
    "        # Emulate __init__()\n",
    "        copy.q = self.get_data()[0]\n",
    "        super(type(self), copy).__init__(*args)\n",
    "        return copy"
   ]
  },
  {
   "cell_type": "code",
   "execution_count": null,
   "metadata": {},
   "outputs": [],
   "source": []
  },
  {
   "cell_type": "code",
   "execution_count": 55,
   "metadata": {},
   "outputs": [],
   "source": [
    "\n",
    "def solve_gen_dwd(X, y, lambd=1.0, q=1, sample_weight=None, solver_kws={}):\n",
    "    \"\"\"\n",
    "    Solves distance weighted discrimination optimization problem.\n",
    "\n",
    "    Solves problem (2.7) from https://arxiv.org/pdf/1508.05913.pdf\n",
    "\n",
    "    Parameters\n",
    "    ----------\n",
    "    X: (n_samples, n_features)\n",
    "\n",
    "    y: (n_samples, )\n",
    "\n",
    "    C: float\n",
    "        Strictly positive tuning parameter.\n",
    "\n",
    "    sample_weight: None, (n_samples, )\n",
    "        Weights for samples.\n",
    "\n",
    "    solver_kws: dict\n",
    "        Keyword arguments to cp.solve\n",
    "\n",
    "    Output\n",
    "    ------\n",
    "    beta, intercept, problem\n",
    "\n",
    "    beta: (n_features, )\n",
    "        DWD normal vector.\n",
    "\n",
    "    intercept: float\n",
    "        DWD intercept.\n",
    "\n",
    "    problem: cp.Problem\n",
    "\n",
    "    \"\"\"\n",
    "    n_samples, n_features = X.shape\n",
    "\n",
    "    y = np.array(y).reshape(-1)\n",
    "    labels = np.unique(y)\n",
    "    # only implemented for binary classification\n",
    "    assert len(labels) == 2\n",
    "\n",
    "    # make y +/- 1\n",
    "    # np.unique(y)[1] is the positive class\n",
    "    y_pm1 = np.ones(n_samples)\n",
    "    y_pm1[y == labels[0]] = -1\n",
    "    y = y_pm1\n",
    "\n",
    "    if sample_weight is not None:\n",
    "        raise NotImplementedError\n",
    "\n",
    "    # problem data\n",
    "    X = cp.Parameter(shape=X.shape, value=X)\n",
    "    y = cp.Parameter(shape=y.shape, value=y)\n",
    "    lambd = cp.Parameter(value=lambd, nonneg=True)\n",
    "    q = cp.Parameter(value=q, nonneg=True)\n",
    "\n",
    "    # optimization variables\n",
    "    beta = cp.Variable(shape=n_features)\n",
    "    intercept = cp.Variable()\n",
    "\n",
    "    # objective funtion\n",
    "    d = cp.multiply(y, X @ beta + intercept)\n",
    "    # objective = sum(V_fun(d[i], q=q) for i in range(n_samples))\n",
    "    # objective = sum(V_fun(d[i]) for i in range(n_samples))\n",
    "    objective = sum(cp.exp(d[i]) for i in range(n_samples))\n",
    "\n",
    "    # solve problem\n",
    "    problem = cp.Problem(cp.Minimize(objective))\n",
    "\n",
    "    problem.solve(**solver_kws)\n",
    "\n",
    "    return beta.value, intercept.value, problem\n",
    "\n"
   ]
  },
  {
   "cell_type": "code",
   "execution_count": 56,
   "metadata": {},
   "outputs": [],
   "source": [
    "params = {'n_features': 2,\n",
    "          'n_redundant': 0,\n",
    "          'n_classes': 2,\n",
    "          'n_clusters_per_class': 1,\n",
    "          'flip_y': .1,\n",
    "          'class_sep': 1.0}\n",
    "\n",
    "X, y = make_classification(n_samples=200, random_state=0, **params)\n"
   ]
  },
  {
   "cell_type": "code",
   "execution_count": 57,
   "metadata": {
    "scrolled": false
   },
   "outputs": [
    {
     "data": {
      "text/plain": [
       "(array([-0.8888378,  0.0731408]),\n",
       " array(-0.07046917),\n",
       " Problem(Minimize(Expression(CONVEX, NONNEGATIVE, ())), []))"
      ]
     },
     "execution_count": 57,
     "metadata": {},
     "output_type": "execute_result"
    }
   ],
   "source": [
    "solve_gen_dwd(X, y)"
   ]
  },
  {
   "cell_type": "code",
   "execution_count": null,
   "metadata": {},
   "outputs": [],
   "source": []
  }
 ],
 "metadata": {
  "kernelspec": {
   "display_name": "Python [conda env:mv_gmm] *",
   "language": "python",
   "name": "conda-env-mv_gmm-py"
  },
  "language_info": {
   "codemirror_mode": {
    "name": "ipython",
    "version": 3
   },
   "file_extension": ".py",
   "mimetype": "text/x-python",
   "name": "python",
   "nbconvert_exporter": "python",
   "pygments_lexer": "ipython3",
   "version": "3.7.4"
  }
 },
 "nbformat": 4,
 "nbformat_minor": 2
}
