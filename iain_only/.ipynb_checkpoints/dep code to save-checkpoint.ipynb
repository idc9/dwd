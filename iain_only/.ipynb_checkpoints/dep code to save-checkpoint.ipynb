{
 "cells": [
  {
   "cell_type": "code",
   "execution_count": 1,
   "metadata": {},
   "outputs": [],
   "source": [
    "from sklearn.datasets import make_blobs\n",
    "\n",
    "def sample_data(n_samples=100, n_features=20, sep=2, random_state=None):\n",
    "    return make_blobs(n_samples=n_samples, n_features=n_features,\n",
    "                      centers=[np.zeros(n_features),\n",
    "                               sep * np.ones(n_features) / np.sqrt(n_features)],\n",
    "                      random_state=random_state)\n"
   ]
  },
  {
   "cell_type": "code",
   "execution_count": null,
   "metadata": {},
   "outputs": [],
   "source": [
    "from sklearn.model_selection import GridSearchCV\n",
    "\n",
    "# do cross validation using Sklearn's grid search.\n",
    "C_vals = np.logspace(-5, 5, 20)\n",
    "clf = GridSearchCV(estimator=dwd, param_grid=dict(C=C_vals), cv=5,\n",
    "                   n_jobs=-1, return_train_score=True)\n",
    "clf.fit(X, y)\n",
    "\n",
    "import matplotlib.pyplot as plt\n",
    "%matplotlib inline\n",
    "\n",
    "# plot tuning curve\n",
    "plt.plot(C_vals, clf.cv_results_['mean_test_score'])\n",
    "plt.xscale('log')\n",
    "plt.xlabel('C')\n",
    "plt.ylabel('CV test accuracy')\n",
    "plt.axvline(clf.best_estimator_.C,\n",
    "            ls='--',\n",
    "            label='Selected C value')\n",
    "plt.axhline( clf.best_score_,\n",
    "            ls=':',\n",
    "            label='Best accuracy')\n",
    "plt.legend()"
   ]
  }
 ],
 "metadata": {
  "kernelspec": {
   "display_name": "Python [conda env:mv_gmm] *",
   "language": "python",
   "name": "conda-env-mv_gmm-py"
  },
  "language_info": {
   "codemirror_mode": {
    "name": "ipython",
    "version": 3
   },
   "file_extension": ".py",
   "mimetype": "text/x-python",
   "name": "python",
   "nbconvert_exporter": "python",
   "pygments_lexer": "ipython3",
   "version": "3.7.4"
  }
 },
 "nbformat": 4,
 "nbformat_minor": 2
}
